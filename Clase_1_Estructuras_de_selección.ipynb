{
  "nbformat": 4,
  "nbformat_minor": 0,
  "metadata": {
    "colab": {
      "provenance": []
    },
    "kernelspec": {
      "name": "python3",
      "display_name": "Python 3"
    },
    "language_info": {
      "name": "python"
    }
  },
  "cells": [
    {
      "cell_type": "markdown",
      "source": [
        "##Estructura si/entonces if/else\n",
        "sirve para evaluar una condición.\n",
        "Estas condiciones darán un valor de verdad.\n",
        "Sintaxis"
      ],
      "metadata": {
        "id": "dwYlg2RrRB9X"
      }
    },
    {
      "cell_type": "markdown",
      "source": [
        "## Estrucutura de selección si/entonces if/else\n",
        "sirve para evaluar una condición.\n",
        "Esatas condiciones darán un valor de verdad.\n",
        "sintaxis\n",
        "```\n",
        "if (condición):\n",
        "   aquí va algo, si la conndición es verdadera\n",
        "else:\n",
        "  aquí va algo si la condición es falsa"
      ],
      "metadata": {
        "id": "Z7NtrmcIUqoD"
      }
    },
    {
      "cell_type": "code",
      "execution_count": null,
      "metadata": {
        "id": "iDs-HQfwQxvP"
      },
      "outputs": [],
      "source": [
        "#Ejemplo1: AI para gasolina\n",
        "respuesta=\"\" #Declaramos una variables como caracter\n",
        " #para imprimir, usamos el comando print\n",
        " print (\"Detecto poca gasolina en el tanque\")\n",
        " print (\"Desea ir a la gasolinera más cercana?\")\n",
        "#función input para leer respuestas\n",
        "respuesta=inpt()"
      ]
    },
    {
      "cell_type": "code",
      "source": [
        " respuesta=input(\"Detecto poca gasolina en el tanque\\nDesea ir a la gasolinera más cercana?\")"
      ],
      "metadata": {
        "colab": {
          "base_uri": "https://localhost:8080/"
        },
        "id": "68hfdzUibb6m",
        "outputId": "c9c55bd3-25f1-457c-b057-7cbd702150be"
      },
      "execution_count": 4,
      "outputs": [
        {
          "name": "stdout",
          "output_type": "stream",
          "text": [
            "Detecto poca gasolina en el tanque\n",
            "Desea ir a la gasolinera más cercana?sí\n"
          ]
        }
      ]
    },
    {
      "cell_type": "code",
      "source": [
        "if respuesta==\"sí\":\n",
        "  print(\"Ir a la gasolinera más cercana\")\n",
        "else:\n",
        "  print(\"seguimos derecho\")"
      ],
      "metadata": {
        "colab": {
          "base_uri": "https://localhost:8080/"
        },
        "id": "qZWPt3I3cmpM",
        "outputId": "8f914a9a-7e59-459c-e15a-7e34e85be60f"
      },
      "execution_count": 5,
      "outputs": [
        {
          "output_type": "stream",
          "name": "stdout",
          "text": [
            "Ir a la gasolinera más cercana\n"
          ]
        }
      ]
    },
    {
      "cell_type": "code",
      "source": [
        "#vamos a mejorar el ejercicio\n",
        "import random #importanto la librería random\n",
        "gasolina=random.randint(1,100)\n",
        "gasolina"
      ],
      "metadata": {
        "colab": {
          "base_uri": "https://localhost:8080/"
        },
        "id": "NAjRrQ2vgCQp",
        "outputId": "cfe0772f-eaa4-468f-bbe7-d2c5c741c62d"
      },
      "execution_count": 6,
      "outputs": [
        {
          "output_type": "execute_result",
          "data": {
            "text/plain": [
              "78"
            ]
          },
          "metadata": {},
          "execution_count": 6
        }
      ]
    },
    {
      "cell_type": "code",
      "source": [
        "if gasolina<=10:\n",
        "  respuesta=input(\"Detecto poca gasolina en el tanque\\nDesea ir a la gasolinera más cercana?\")\n",
        "  if respuesta==\"sí\":\n",
        "    print(\"Ir a la gasolinera más cercana\")\n",
        "  else:\n",
        "    print(\"seguimos derecho\")\n",
        "else:\n",
        "  print(\"sigo por el camino\")"
      ],
      "metadata": {
        "colab": {
          "base_uri": "https://localhost:8080/"
        },
        "id": "YFdduuyvgjfZ",
        "outputId": "4f96bd59-5100-4673-e7a9-8668cc0af40d"
      },
      "execution_count": 9,
      "outputs": [
        {
          "output_type": "stream",
          "name": "stdout",
          "text": [
            "sigo por el camino\n"
          ]
        }
      ]
    }
  ]
}